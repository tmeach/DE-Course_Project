{
 "cells": [
  {
   "cell_type": "code",
   "execution_count": 17,
   "id": "aa8d143d",
   "metadata": {},
   "outputs": [],
   "source": [
    "import pandas as pd\n",
    "import requests\n",
    "import urllib.parse as urlparse\n",
    "import datetime\n",
    "import matplotlib.pyplot as plt\n",
    "\n",
    "\n",
    "from urllib.parse import urlparse\n",
    "from urllib.parse import quote\n",
    "\n",
    "from urllib.parse import quote"
   ]
  },
  {
   "cell_type": "code",
   "execution_count": 25,
   "id": "dc5f1b9f",
   "metadata": {},
   "outputs": [],
   "source": [
    "#start = \"37.77493,-122.419415\"               # San Francisco\n",
    "#end = \"34.052234,-118.243685\"                # Los Angeles\n",
    "\n",
    "# API Key\n",
    "key = \"K2qxoM9HBVDW5GBRAG0lik4VHZP66PIz\"             \n",
    " \n",
    "# Base URL\n",
    "#base_url = \"https://api.tomtom.com/routing/1/calculateRoute/\""
   ]
  },
  {
   "cell_type": "markdown",
   "id": "c39f0ec1",
   "metadata": {},
   "source": [
    "## traffic"
   ]
  },
  {
   "cell_type": "markdown",
   "id": "db1a0fc8",
   "metadata": {},
   "source": [
    "template"
   ]
  },
  {
   "cell_type": "code",
   "execution_count": null,
   "id": "6317d421",
   "metadata": {},
   "outputs": [],
   "source": [
    "https://{baseURL}/traffic/services/{versionNumber}/flowSegmentData/{style}/{zoom}/{format}?key={Your_API_Key}&point={point}&unit={unit}&thickness={thickness}&openLr={boolean}&jsonp={jsonp}"
   ]
  },
  {
   "cell_type": "markdown",
   "id": "d4a77a53",
   "metadata": {},
   "source": [
    "example https "
   ]
  },
  {
   "cell_type": "code",
   "execution_count": 40,
   "id": "ea16eed1",
   "metadata": {},
   "outputs": [],
   "source": [
    "url = f'https://api.tomtom.com/traffic/services/4/flowSegmentData/absolute/10/json?key={key}&point=52.41072,4.84239'"
   ]
  },
  {
   "cell_type": "code",
   "execution_count": 41,
   "id": "f803b992",
   "metadata": {},
   "outputs": [],
   "source": [
    "r = requests.get(url)"
   ]
  },
  {
   "cell_type": "code",
   "execution_count": 42,
   "id": "6424f8cd",
   "metadata": {},
   "outputs": [
    {
     "data": {
      "text/plain": [
       "200"
      ]
     },
     "execution_count": 42,
     "metadata": {},
     "output_type": "execute_result"
    }
   ],
   "source": [
    "r.status_code"
   ]
  },
  {
   "cell_type": "code",
   "execution_count": 44,
   "id": "f293fc24",
   "metadata": {},
   "outputs": [
    {
     "data": {
      "text/plain": [
       "{'flowSegmentData': {'frc': 'FRC3',\n",
       "  'currentSpeed': 56,\n",
       "  'freeFlowSpeed': 56,\n",
       "  'currentTravelTime': 169,\n",
       "  'freeFlowTravelTime': 169,\n",
       "  'confidence': 1,\n",
       "  'roadClosure': False,\n",
       "  'coordinates': {'coordinate': [{'latitude': 52.40183231336056,\n",
       "     'longitude': 4.849252708696554},\n",
       "    {'latitude': 52.401924990696955, 'longitude': 4.849053979358899},\n",
       "    {'latitude': 52.40203698518244, 'longitude': 4.848813378217727},\n",
       "    {'latitude': 52.40214263506514, 'longitude': 4.848573909201235},\n",
       "    {'latitude': 52.4023046145239, 'longitude': 4.848227444360418},\n",
       "    {'latitude': 52.402462971056, 'longitude': 4.847878215114321},\n",
       "    {'latitude': 52.40258688093721, 'longitude': 4.847606653801279},\n",
       "    {'latitude': 52.402679371176106, 'longitude': 4.847409809783755},\n",
       "    {'latitude': 52.40276008735337, 'longitude': 4.847236894406791},\n",
       "    {'latitude': 52.40287110332819, 'longitude': 4.846977830272436},\n",
       "    {'latitude': 52.40304608085192, 'longitude': 4.846587099001113},\n",
       "    {'latitude': 52.40325616787171, 'longitude': 4.846124311780756},\n",
       "    {'latitude': 52.40340872122277, 'longitude': 4.845793615547279},\n",
       "    {'latitude': 52.40358804847217, 'longitude': 4.845392114179049},\n",
       "    {'latitude': 52.40370922910264, 'longitude': 4.845131053439701},\n",
       "    {'latitude': 52.40383412937844, 'longitude': 4.844855230126484},\n",
       "    {'latitude': 52.40394635442097, 'longitude': 4.844601713736949},\n",
       "    {'latitude': 52.4042636379714, 'longitude': 4.843921586243312},\n",
       "    {'latitude': 52.40427954544788, 'longitude': 4.84379121549253},\n",
       "    {'latitude': 52.404359368226416, 'longitude': 4.843610046555852},\n",
       "    {'latitude': 52.404498542090195, 'longitude': 4.843299525583973},\n",
       "    {'latitude': 52.404716601717205, 'longitude': 4.84280691721807},\n",
       "    {'latitude': 52.40480316394121, 'longitude': 4.842611188288657},\n",
       "    {'latitude': 52.40585881681148, 'longitude': 4.840251706851859},\n",
       "    {'latitude': 52.40606790564762, 'longitude': 4.83977719164082},\n",
       "    {'latitude': 52.40747927280114, 'longitude': 4.83662815043246},\n",
       "    {'latitude': 52.407523277982534, 'longitude': 4.83652505589879},\n",
       "    {'latitude': 52.40758658089268, 'longitude': 4.836390814017619},\n",
       "    {'latitude': 52.407916503880294, 'longitude': 4.835663904056872},\n",
       "    {'latitude': 52.408084551539204, 'longitude': 4.835307450259791},\n",
       "    {'latitude': 52.40917422013605, 'longitude': 4.832836189263958},\n",
       "    {'latitude': 52.40970594429172, 'longitude': 4.831641803131873},\n",
       "    {'latitude': 52.410284310851694, 'longitude': 4.830374518960298},\n",
       "    {'latitude': 52.41042185941117, 'longitude': 4.830083939074228},\n",
       "    {'latitude': 52.41058150643595, 'longitude': 4.829765827326526},\n",
       "    {'latitude': 52.41069446303, 'longitude': 4.829582473387177},\n",
       "    {'latitude': 52.41085981660162, 'longitude': 4.82930159811761},\n",
       "    {'latitude': 52.410947544533734, 'longitude': 4.82913855851038},\n",
       "    {'latitude': 52.41106533947005, 'longitude': 4.828959052980565},\n",
       "    {'latitude': 52.411157977267784, 'longitude': 4.828831652336703},\n",
       "    {'latitude': 52.41139034463465, 'longitude': 4.828537385351524},\n",
       "    {'latitude': 52.41147103133532, 'longitude': 4.828444686756342},\n",
       "    {'latitude': 52.411696778394536, 'longitude': 4.828189254666995},\n",
       "    {'latitude': 52.41188727233151, 'longitude': 4.827993703667232},\n",
       "    {'latitude': 52.41203223756379, 'longitude': 4.827849993518612},\n",
       "    {'latitude': 52.412195742696156, 'longitude': 4.827692778839747},\n",
       "    {'latitude': 52.412393506541214, 'longitude': 4.827522392363022},\n",
       "    {'latitude': 52.412607861138916, 'longitude': 4.827353980158421},\n",
       "    {'latitude': 52.41265726465922, 'longitude': 4.827317244194887},\n",
       "    {'latitude': 52.41284460527004, 'longitude': 4.827175755752791},\n",
       "    {'latitude': 52.413093305543924, 'longitude': 4.827002171698155},\n",
       "    {'latitude': 52.413139100576515, 'longitude': 4.826971646596775},\n",
       "    {'latitude': 52.413207111028875, 'longitude': 4.826938857146899},\n",
       "    {'latitude': 52.41327350074909, 'longitude': 4.826899013989049},\n",
       "    {'latitude': 52.41340465580674, 'longitude': 4.826820313072659},\n",
       "    {'latitude': 52.41357807344542, 'longitude': 4.826731783432933},\n",
       "    {'latitude': 52.41378315615816, 'longitude': 4.826642672629475},\n",
       "    {'latitude': 52.41395751633157, 'longitude': 4.826584144475021},\n",
       "    {'latitude': 52.41414370399025, 'longitude': 4.826530419179193},\n",
       "    {'latitude': 52.414300682331145, 'longitude': 4.826495274264801},\n",
       "    {'latitude': 52.41449846165263, 'longitude': 4.826474259747869},\n",
       "    {'latitude': 52.41446224223976, 'longitude': 4.826477552184684},\n",
       "    {'latitude': 52.41448574464082, 'longitude': 4.826502804795325},\n",
       "    {'latitude': 52.41489995215177, 'longitude': 4.826510071468419},\n",
       "    {'latitude': 52.41502300099306, 'longitude': 4.826525877597305},\n",
       "    {'latitude': 52.415095212787236, 'longitude': 4.826540320755782},\n",
       "    {'latitude': 52.41525622694511, 'longitude': 4.826580252709732},\n",
       "    {'latitude': 52.415325302063984, 'longitude': 4.826597759988402},\n",
       "    {'latitude': 52.41537470639122, 'longitude': 4.826620738601918},\n",
       "    {'latitude': 52.415670166450944, 'longitude': 4.82671605586512},\n",
       "    {'latitude': 52.41577444153377, 'longitude': 4.826760572144337},\n",
       "    {'latitude': 52.41593551851489, 'longitude': 4.826833313326432},\n",
       "    {'latitude': 52.416052076155616, 'longitude': 4.82688839423065},\n",
       "    {'latitude': 52.416198527141674, 'longitude': 4.826961612917984},\n",
       "    {'latitude': 52.41630780772432, 'longitude': 4.827004034945276},\n",
       "    {'latitude': 52.41643559381711, 'longitude': 4.827046616711925},\n",
       "    {'latitude': 52.416548383932096, 'longitude': 4.827079986991151},\n",
       "    {'latitude': 52.41666335963156, 'longitude': 4.827101785882007},\n",
       "    {'latitude': 52.416740397888724, 'longitude': 4.827101785882007},\n",
       "    {'latitude': 52.416859969962054, 'longitude': 4.827099973770544},\n",
       "    {'latitude': 52.41696051876548, 'longitude': 4.827075360434208},\n",
       "    {'latitude': 52.417070934313195, 'longitude': 4.82704296357619},\n",
       "    {'latitude': 52.417153556378636, 'longitude': 4.827016062461581},\n",
       "    {'latitude': 52.41695044623594, 'longitude': 4.827118529212584},\n",
       "    {'latitude': 52.41690550286602, 'longitude': 4.826928733378963},\n",
       "    {'latitude': 52.416939411723625, 'longitude': 4.82704305206201},\n",
       "    {'latitude': 52.41696566962274, 'longitude': 4.827129390753242},\n",
       "    {'latitude': 52.417003355360585, 'longitude': 4.827234163382769},\n",
       "    {'latitude': 52.41704731424842, 'longitude': 4.827330996190057},\n",
       "    {'latitude': 52.4170896616151, 'longitude': 4.827401605265521},\n",
       "    {'latitude': 52.417139539907815, 'longitude': 4.827474047032354},\n",
       "    {'latitude': 52.417209783678274, 'longitude': 4.827547897241317},\n",
       "    {'latitude': 52.41730769577023, 'longitude': 4.827631222115173},\n",
       "    {'latitude': 52.417402789777654, 'longitude': 4.827669308480921},\n",
       "    {'latitude': 52.417461710690546, 'longitude': 4.827683334884057},\n",
       "    {'latitude': 52.41752238993081, 'longitude': 4.827692439778758},\n",
       "    {'latitude': 52.41761814616724, 'longitude': 4.827709839202868},\n",
       "    {'latitude': 52.41792572969999, 'longitude': 4.827667115434309},\n",
       "    {'latitude': 52.41798896713038, 'longitude': 4.827587762737721},\n",
       "    {'latitude': 52.417976924292816, 'longitude': 4.827588870297177}]},\n",
       "  '@version': 'traffic-service-flow 1.0.109'}}"
      ]
     },
     "execution_count": 44,
     "metadata": {},
     "output_type": "execute_result"
    }
   ],
   "source": [
    "r.json()"
   ]
  },
  {
   "cell_type": "code",
   "execution_count": null,
   "id": "cc142bf0",
   "metadata": {},
   "outputs": [],
   "source": []
  },
  {
   "cell_type": "code",
   "execution_count": null,
   "id": "28ec2991",
   "metadata": {},
   "outputs": [],
   "source": []
  },
  {
   "cell_type": "code",
   "execution_count": null,
   "id": "20ee3a20",
   "metadata": {},
   "outputs": [],
   "source": []
  },
  {
   "cell_type": "code",
   "execution_count": null,
   "id": "abd5d7e2",
   "metadata": {},
   "outputs": [],
   "source": []
  }
 ],
 "metadata": {
  "kernelspec": {
   "display_name": "Python 3 (ipykernel)",
   "language": "python",
   "name": "python3"
  },
  "language_info": {
   "codemirror_mode": {
    "name": "ipython",
    "version": 3
   },
   "file_extension": ".py",
   "mimetype": "text/x-python",
   "name": "python",
   "nbconvert_exporter": "python",
   "pygments_lexer": "ipython3",
   "version": "3.10.9"
  }
 },
 "nbformat": 4,
 "nbformat_minor": 5
}
